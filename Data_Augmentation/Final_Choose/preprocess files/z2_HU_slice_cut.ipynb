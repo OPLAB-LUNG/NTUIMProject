{
 "cells": [
  {
   "cell_type": "code",
   "execution_count": 1,
   "id": "3ea8dedb-9f41-4c14-8f21-8d630b2f52e5",
   "metadata": {},
   "outputs": [
    {
     "name": "stdout",
     "output_type": "stream",
     "text": [
      "Processing subset0...\n",
      "Processing subset1...\n",
      "Processing subset2...\n",
      "Processing subset3...\n",
      "Processing subset4...\n",
      "Processing subset5...\n",
      "Processing subset6...\n",
      "Processing subset7...\n",
      "Processing subset8...\n",
      "Processing subset9...\n"
     ]
    }
   ],
   "source": [
    "# slice into 3\n",
    "import os\n",
    "import numpy as np\n",
    "import SimpleITK as sitk\n",
    "\n",
    "def split_data(ct_scan, save_dir, filename_prefix):\n",
    "    num_slices = ct_scan.shape[0]\n",
    "\n",
    "    # Get the pixel values for all the slices and replace -2000 with 0\n",
    "    ct_scan[ct_scan < -1000] = -1000\n",
    "    ct_scan[ct_scan > 1000] = 1000\n",
    "\n",
    "    for i in range(1, num_slices - 1):  # Loop from the 3rd slice to the second-to-last slice\n",
    "        save_path = os.path.join(save_dir, f\"{filename_prefix}_{i}\")\n",
    "        os.makedirs(save_path, exist_ok=True)  # Create the directory if it doesn't exist\n",
    "\n",
    "        # Extract two slices on both sides\n",
    "        x = np.array([ct_scan[i-1], ct_scan[i+1]])\n",
    "        y = np.array(ct_scan[i])  # Middle slice as the label\n",
    "\n",
    "        # Save the slices as separate files\n",
    "        np.save(os.path.join(save_path, \"train.npy\"), x)\n",
    "        np.save(os.path.join(save_path, \"val.npy\"), y)\n",
    "\n",
    "def main():\n",
    "    read_root = \"../Luna16_data/Luna16_img\"\n",
    "    save_root = \"../Luna16_data/split2_data\"\n",
    "\n",
    "    # Create the save directory if it doesn't exist\n",
    "    os.makedirs(save_root, exist_ok=True)\n",
    "\n",
    "    sub_directories = os.listdir(read_root)\n",
    "    \n",
    "    for sub_dir in sub_directories:\n",
    "        sub_dir_path = os.path.join(read_root, sub_dir)\n",
    "        print(f\"Processing {sub_dir}...\")\n",
    "\n",
    "        for file_name in os.listdir(sub_dir_path):\n",
    "            if file_name.endswith(\".mhd\"):\n",
    "                file_path = os.path.join(sub_dir_path, file_name)\n",
    "                data = sitk.ReadImage(file_path)\n",
    "                ct_scan = sitk.GetArrayFromImage(data)\n",
    "\n",
    "                # Extract and save slices\n",
    "                split_data(ct_scan, save_root, file_name[:-4])\n",
    "\n",
    "if __name__ == \"__main__\":\n",
    "    main()"
   ]
  },
  {
   "cell_type": "code",
   "execution_count": 2,
   "id": "a3c80e2f-ea80-47ce-b40a-f6ef85d76f63",
   "metadata": {
    "tags": []
   },
   "outputs": [
    {
     "name": "stdout",
     "output_type": "stream",
     "text": [
      "Processing subset0...\n",
      "Processing subset1...\n",
      "Processing subset2...\n",
      "Processing subset3...\n",
      "Processing subset4...\n",
      "Processing subset5...\n",
      "Processing subset6...\n",
      "Processing subset7...\n",
      "Processing subset8...\n",
      "Processing subset9...\n"
     ]
    }
   ],
   "source": [
    "# slice into 5\n",
    "import os\n",
    "import numpy as np\n",
    "import SimpleITK as sitk\n",
    "\n",
    "def split_data(ct_scan, save_dir, filename_prefix):\n",
    "    num_slices = ct_scan.shape[0]\n",
    "\n",
    "    # Get the pixel values for all the slices and replace -2000 with 0\n",
    "    ct_scan[ct_scan < -1000] = -1000\n",
    "    ct_scan[ct_scan > 1000] = 1000\n",
    "\n",
    "    for i in range(2, num_slices - 2):  # Loop from the 3rd slice to the second-to-last slice\n",
    "        save_path = os.path.join(save_dir, f\"{filename_prefix}_{i}\")\n",
    "        os.makedirs(save_path, exist_ok=True)  # Create the directory if it doesn't exist\n",
    "\n",
    "        # Extract two slices on both sides\n",
    "        x = np.array([ct_scan[i-2], ct_scan[i-1], ct_scan[i+1], ct_scan[i+2]])\n",
    "        y = np.array(ct_scan[i])  # Middle slice as the label\n",
    "\n",
    "        # Save the slices as separate files\n",
    "        np.save(os.path.join(save_path, \"train.npy\"), x)\n",
    "        np.save(os.path.join(save_path, \"val.npy\"), y)\n",
    "\n",
    "def main():\n",
    "    read_root = \"../Luna16_data/Luna16_img\"\n",
    "    save_root = \"../Luna16_data/split4_data\"\n",
    "\n",
    "    # Create the save directory if it doesn't exist\n",
    "    os.makedirs(save_root, exist_ok=True)\n",
    "\n",
    "    sub_directories = os.listdir(read_root)\n",
    "    \n",
    "    for sub_dir in sub_directories:\n",
    "        sub_dir_path = os.path.join(read_root, sub_dir)\n",
    "        print(f\"Processing {sub_dir}...\")\n",
    "\n",
    "        for file_name in os.listdir(sub_dir_path):\n",
    "            if file_name.endswith(\".mhd\"):\n",
    "                file_path = os.path.join(sub_dir_path, file_name)\n",
    "                data = sitk.ReadImage(file_path)\n",
    "                ct_scan = sitk.GetArrayFromImage(data)\n",
    "\n",
    "                # Extract and save slices\n",
    "                split_data(ct_scan, save_root, file_name[:-4])\n",
    "\n",
    "if __name__ == \"__main__\":\n",
    "    main()\n"
   ]
  },
  {
   "cell_type": "code",
   "execution_count": null,
   "id": "952756d2-220f-4856-a3f9-be09ea05a9e7",
   "metadata": {},
   "outputs": [],
   "source": []
  }
 ],
 "metadata": {
  "kernelspec": {
   "display_name": "Python 3 (ipykernel)",
   "language": "python",
   "name": "python3"
  },
  "language_info": {
   "codemirror_mode": {
    "name": "ipython",
    "version": 3
   },
   "file_extension": ".py",
   "mimetype": "text/x-python",
   "name": "python",
   "nbconvert_exporter": "python",
   "pygments_lexer": "ipython3",
   "version": "3.11.4"
  }
 },
 "nbformat": 4,
 "nbformat_minor": 5
}
