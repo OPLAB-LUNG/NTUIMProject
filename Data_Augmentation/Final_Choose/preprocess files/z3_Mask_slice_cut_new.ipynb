{
 "cells": [
  {
   "cell_type": "code",
   "execution_count": 1,
   "id": "bVL21dM-JhU7",
   "metadata": {
    "id": "bVL21dM-JhU7"
   },
   "outputs": [],
   "source": [
    "import os\n",
    "import numpy as np\n",
    "import pandas as pd\n",
    "import SimpleITK as sitk\n",
    "import pylidc"
   ]
  },
  {
   "cell_type": "code",
   "execution_count": 2,
   "id": "w8RcWdrYl3qe",
   "metadata": {
    "executionInfo": {
     "elapsed": 3,
     "status": "ok",
     "timestamp": 1700565329317,
     "user": {
      "displayName": "劉惟恩",
      "userId": "02074838684670325178"
     },
     "user_tz": -480
    },
    "id": "w8RcWdrYl3qe"
   },
   "outputs": [],
   "source": [
    "def masks_build(suid, hu_a):\n",
    "    scans = {s.series_instance_uid:s for s in pylidc.query(pylidc.Scan).all()}\n",
    "    s = scans[suid]\n",
    "    ann_count = np.zeros_like(hu_a, dtype=int)\n",
    "    for ann_cluster in s.cluster_annotations():\n",
    "        # print(ann_cluster)\n",
    "        if len(ann_cluster) < 3:\n",
    "            continue\n",
    "        for ann in ann_cluster:\n",
    "            # print(\"id: \", ann.id)\n",
    "            # print(\"shape: \", ann.boolean_mask().shape)\n",
    "            mask = ann.boolean_mask()\n",
    "            bbox = ann.bbox_matrix().T\n",
    "            # print(\"bbox rci: \", bbox)\n",
    "            \n",
    "            bbox = np.roll(bbox, shift=1, axis=1)\n",
    "            # print(\"bbox irc: \", bbox)\n",
    "            result = np.diff(bbox, axis=0)[0]\n",
    "            # print(\"ijk: \", result[0], result[1], result[2])\n",
    "            result_p = np.diff(bbox, axis=0)[0] + 1\n",
    "            # print(\"ijk: \", result_p[0], result_p[1], result_p[2])\n",
    "            mask = np.transpose(mask, (2, 0, 1))\n",
    "            # print(\"origin: \", ann_count[bbox[0][0]:bbox[0][0] + result_p[0], bbox[0][1]:bbox[0][1] + result_p[1], bbox[0][2]:bbox[0][2]+result_p[2]])\n",
    "            ann_count[bbox[0][0]:bbox[0][0] + result_p[0], bbox[0][1]:bbox[0][1] + result_p[1], bbox[0][2]:bbox[0][2]+result_p[2]] += mask.astype(int)\n",
    "            # print(\"add: \", ann_count[bbox[0][0]:bbox[0][0] + result_p[0], bbox[0][1]:bbox[0][1] + result_p[1], bbox[0][2]:bbox[0][2]+result_p[2]])\n",
    "  \n",
    "    masks = (ann_count >= 1)\n",
    "    \n",
    "    return masks"
   ]
  },
  {
   "cell_type": "code",
   "execution_count": 4,
   "id": "a3c80e2f-ea80-47ce-b40a-f6ef85d76f63",
   "metadata": {
    "id": "a3c80e2f-ea80-47ce-b40a-f6ef85d76f63",
    "outputId": "b7fdfb41-54b2-46e4-827f-609d36fa238c",
    "tags": []
   },
   "outputs": [
    {
     "name": "stdout",
     "output_type": "stream",
     "text": [
      "Processing subset0...\n",
      "Failed to reduce all groups to <= 4 Annotations.\n",
      "Some nodules may be close and must be grouped manually.\n",
      "Failed to reduce all groups to <= 4 Annotations.\n",
      "Some nodules may be close and must be grouped manually.\n",
      "Processing subset1...\n",
      "Failed to reduce all groups to <= 4 Annotations.\n",
      "Some nodules may be close and must be grouped manually.\n",
      "Processing subset2...\n",
      "Failed to reduce all groups to <= 4 Annotations.\n",
      "Some nodules may be close and must be grouped manually.\n",
      "Failed to reduce all groups to <= 4 Annotations.\n",
      "Some nodules may be close and must be grouped manually.\n",
      "Processing subset3...\n",
      "Failed to reduce all groups to <= 4 Annotations.\n",
      "Some nodules may be close and must be grouped manually.\n",
      "Processing subset4...\n",
      "Failed to reduce all groups to <= 4 Annotations.\n",
      "Some nodules may be close and must be grouped manually.\n",
      "Processing subset5...\n",
      "Processing subset6...\n",
      "Failed to reduce all groups to <= 4 Annotations.\n",
      "Some nodules may be close and must be grouped manually.\n",
      "Failed to reduce all groups to <= 4 Annotations.\n",
      "Some nodules may be close and must be grouped manually.\n",
      "Processing subset7...\n",
      "Failed to reduce all groups to <= 4 Annotations.\n",
      "Some nodules may be close and must be grouped manually.\n",
      "Failed to reduce all groups to <= 4 Annotations.\n",
      "Some nodules may be close and must be grouped manually.\n",
      "Processing subset8...\n",
      "Failed to reduce all groups to <= 4 Annotations.\n",
      "Some nodules may be close and must be grouped manually.\n",
      "Processing subset9...\n"
     ]
    }
   ],
   "source": [
    "# slice into 5\n",
    "\n",
    "def split_data(ct_scan, save_dir, filename_prefix, index_array):\n",
    "    num_slices = ct_scan.shape[0]\n",
    "\n",
    "    # get mask\n",
    "    masks = masks_build(filename_prefix, ct_scan.astype('int'))\n",
    "\n",
    "    # Get the pixel values for all the slices and replace -2000 with 0\n",
    "    ct_scan[ct_scan < -1000] = -1000\n",
    "    ct_scan[ct_scan > 1000] = 1000\n",
    "\n",
    "    for i in index_array:  # Loop from the 3rd slice to the second-to-last slice\n",
    "        save_path = os.path.join(save_dir, f\"{filename_prefix}_{i}\")\n",
    "        os.makedirs(save_path, exist_ok=True)  # Create the directory if it doesn't exist\n",
    "\n",
    "        # Extract two slices on both sides\n",
    "        x = np.array([ct_scan[i-2], ct_scan[i-1], ct_scan[i+1], ct_scan[i+2]])\n",
    "        y = np.array(ct_scan[i])  # Middle slice as the label\n",
    "        x_mask = np.array([masks[i-2], masks[i-1], masks[i+1], masks[i+2]])\n",
    "        y_mask = np.array(masks[i])  # Middle slice as the label\n",
    "\n",
    "        # Save the slices as separate files\n",
    "        np.save(os.path.join(save_path, \"train_mask.npy\"), x_mask)\n",
    "        np.save(os.path.join(save_path, \"val_mask.npy\"), y_mask)\n",
    "        np.save(os.path.join(save_path, \"train.npy\"), x)\n",
    "        np.save(os.path.join(save_path, \"val.npy\"), y)\n",
    "\n",
    "def main():\n",
    "    read_root = \"../Luna16_data/Luna16_img\"\n",
    "    save_root = \"../Luna16_data/split4_mask_data_nodule\"\n",
    "    \n",
    "    df_nodules = pd.read_csv(\"z4_all_nodule.csv\")\n",
    "    \n",
    "    # Group by 'UID' and aggregate 'NDX' values into a list\n",
    "    uid_ndx_dict = df_nodules.groupby('UID')['NDX'].agg(list).to_dict()\n",
    "\n",
    "    # Now, uid_ndx_dict is a dictionary where each UID is associated with a list of NDX values\n",
    "    # print(uid_ndx_dict)\n",
    "\n",
    "    # Create the save directory if it doesn't exist\n",
    "    os.makedirs(save_root, exist_ok=True)\n",
    "\n",
    "    sub_directories = os.listdir(read_root)\n",
    "    # print(sub_directories)\n",
    "\n",
    "    for sub_dir in sub_directories:\n",
    "        sub_dir_path = os.path.join(read_root, sub_dir)\n",
    "        print(f\"Processing {sub_dir}...\")\n",
    "\n",
    "        for file_name in os.listdir(sub_dir_path):\n",
    "            if file_name.endswith(\".mhd\"):\n",
    "                if file_name[:-4] in uid_ndx_dict:\n",
    "                    # print(file_name[:-4])\n",
    "                    file_path = os.path.join(sub_dir_path, file_name)\n",
    "                    data = sitk.ReadImage(file_path)\n",
    "                    ct_scan = sitk.GetArrayFromImage(data)\n",
    "\n",
    "                    # Extract and save slices\n",
    "                    split_data(ct_scan, save_root, file_name[:-4], uid_ndx_dict[file_name[:-4]])\n",
    "\n",
    "if __name__ == \"__main__\":\n",
    "    main()"
   ]
  },
  {
   "cell_type": "raw",
   "id": "dd025e49-d438-447a-8b36-b8797b310619",
   "metadata": {
    "id": "952756d2-220f-4856-a3f9-be09ea05a9e7"
   },
   "source": [
    "mask3D = masks_build(self.series_uid, self.hu_a)\n",
    "positive_indexes = (mask3D.sum(axis=(1,2)).nonzero()[0].tolist())"
   ]
  }
 ],
 "metadata": {
  "colab": {
   "provenance": []
  },
  "kernelspec": {
   "display_name": "Python 3 (ipykernel)",
   "language": "python",
   "name": "python3"
  },
  "language_info": {
   "codemirror_mode": {
    "name": "ipython",
    "version": 3
   },
   "file_extension": ".py",
   "mimetype": "text/x-python",
   "name": "python",
   "nbconvert_exporter": "python",
   "pygments_lexer": "ipython3",
   "version": "3.11.5"
  }
 },
 "nbformat": 4,
 "nbformat_minor": 5
}
