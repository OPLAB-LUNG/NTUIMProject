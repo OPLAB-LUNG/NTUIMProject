{
 "cells": [
  {
   "cell_type": "markdown",
   "id": "8f114457-e346-41fe-bcd3-42a69c9eaabe",
   "metadata": {
    "id": "jRDuJsGCgxCO",
    "tags": []
   },
   "source": [
    "## Engine1_Interpolation_testing"
   ]
  },
  {
   "cell_type": "markdown",
   "id": "3a4f52b7-a6a4-49d7-961c-c5e63ddae294",
   "metadata": {
    "id": "K9Vxu1iQwdIE"
   },
   "source": [
    "### Check GPU Type"
   ]
  },
  {
   "cell_type": "code",
   "execution_count": 1,
   "id": "98fea4f0-7d6b-4513-a08e-cc93ff9bb727",
   "metadata": {
    "colab": {
     "base_uri": "https://localhost:8080/"
    },
    "id": "KKjf6sZcwb_A",
    "outputId": "605652be-d5bf-48a2-8218-57b33b6f7790",
    "tags": []
   },
   "outputs": [
    {
     "name": "stdout",
     "output_type": "stream",
     "text": [
      "Wed Oct 11 09:07:35 2023       \n",
      "+-----------------------------------------------------------------------------+\n",
      "| NVIDIA-SMI 528.24       Driver Version: 528.24       CUDA Version: 12.0     |\n",
      "|-------------------------------+----------------------+----------------------+\n",
      "| GPU  Name            TCC/WDDM | Bus-Id        Disp.A | Volatile Uncorr. ECC |\n",
      "| Fan  Temp  Perf  Pwr:Usage/Cap|         Memory-Usage | GPU-Util  Compute M. |\n",
      "|                               |                      |               MIG M. |\n",
      "|===============================+======================+======================|\n",
      "|   0  NVIDIA GeForce ... WDDM  | 00000000:01:00.0  On |                  Off |\n",
      "|  0%   41C    P8    13W / 450W |  23509MiB / 24564MiB |      7%      Default |\n",
      "|                               |                      |                  N/A |\n",
      "+-------------------------------+----------------------+----------------------+\n",
      "                                                                               \n",
      "+-----------------------------------------------------------------------------+\n",
      "| Processes:                                                                  |\n",
      "|  GPU   GI   CI        PID   Type   Process name                  GPU Memory |\n",
      "|        ID   ID                                                   Usage      |\n",
      "|=============================================================================|\n",
      "|    0   N/A  N/A       836      C   ...plab\\anaconda3\\python.exe    N/A      |\n",
      "|    0   N/A  N/A      3868    C+G   ...icrosoft VS Code\\Code.exe    N/A      |\n",
      "|    0   N/A  N/A      3940      C   ...plab\\anaconda3\\python.exe    N/A      |\n",
      "|    0   N/A  N/A      5204    C+G   ...045.47\\msedgewebview2.exe    N/A      |\n",
      "|    0   N/A  N/A      9380    C+G   ...2txyewy\\TextInputHost.exe    N/A      |\n",
      "|    0   N/A  N/A     11432      C   ...plab\\anaconda3\\python.exe    N/A      |\n",
      "|    0   N/A  N/A     11500    C+G   C:\\Windows\\explorer.exe         N/A      |\n",
      "|    0   N/A  N/A     12004      C   ...plab\\anaconda3\\python.exe    N/A      |\n",
      "|    0   N/A  N/A     12768    C+G   ...e\\PhoneExperienceHost.exe    N/A      |\n",
      "|    0   N/A  N/A     12928    C+G   ...n1h2txyewy\\SearchHost.exe    N/A      |\n",
      "|    0   N/A  N/A     12952    C+G   ...artMenuExperienceHost.exe    N/A      |\n",
      "|    0   N/A  N/A     13552    C+G   ...y\\ShellExperienceHost.exe    N/A      |\n",
      "|    0   N/A  N/A     18560    C+G   ...oft\\OneDrive\\OneDrive.exe    N/A      |\n",
      "|    0   N/A  N/A     19008    C+G   ...8wekyb3d8bbwe\\GameBar.exe    N/A      |\n",
      "|    0   N/A  N/A     19492      C   ...plab\\anaconda3\\python.exe    N/A      |\n",
      "|    0   N/A  N/A     22328    C+G   ...Device\\asus_framework.exe    N/A      |\n",
      "+-----------------------------------------------------------------------------+\n"
     ]
    }
   ],
   "source": [
    "!nvidia-smi"
   ]
  },
  {
   "cell_type": "markdown",
   "id": "76330dfe-f73f-4294-aabc-b0402c165a5c",
   "metadata": {
    "id": "n5ceUnRihL-f"
   },
   "source": [
    "### Import Packages"
   ]
  },
  {
   "cell_type": "code",
   "execution_count": 2,
   "id": "84ae53eb-c298-4d77-b9af-22fc7e7264cd",
   "metadata": {
    "colab": {
     "background_save": true
    },
    "id": "ay3WkYnHVaVE",
    "tags": []
   },
   "outputs": [],
   "source": [
    "_exp_name = \"10_without2\""
   ]
  },
  {
   "cell_type": "code",
   "execution_count": 3,
   "id": "f2981724-fde0-4d83-8fa2-73389e072d8d",
   "metadata": {
    "colab": {
     "background_save": true
    },
    "id": "CwOGtRWHVaVF",
    "tags": []
   },
   "outputs": [],
   "source": [
    "# Import necessary packages.\n",
    "import numpy as np\n",
    "import pandas as pd\n",
    "import torch\n",
    "import os\n",
    "import torch.nn as nn\n",
    "import torchvision.transforms as transforms\n",
    "from PIL import Image\n",
    "# \"ConcatDataset\" and \"Subset\" are possibly useful when doing semi-supervised learning.\n",
    "from torch.utils.data import ConcatDataset, DataLoader, Subset, Dataset\n",
    "from torchvision.datasets import DatasetFolder, VisionDataset\n",
    "# This is for the progress bar.\n",
    "from tqdm.auto import tqdm\n",
    "import random\n",
    "from random import shuffle\n",
    "\n",
    "# cache\n",
    "from functools import lru_cache"
   ]
  },
  {
   "cell_type": "code",
   "execution_count": 4,
   "id": "fa308d79-aeee-42b8-9057-c677972e0b8e",
   "metadata": {
    "colab": {
     "background_save": true
    },
    "id": "8kJm9GekVaVH",
    "tags": []
   },
   "outputs": [],
   "source": [
    "myseed = 6666  # set a random seed for reproducibility\n",
    "torch.backends.cudnn.deterministic = True\n",
    "torch.backends.cudnn.benchmark = False\n",
    "#This flag allows you to enable the inbuilt cudnn auto-tuner to find the best algorithm to use for your hardware.\n",
    "np.random.seed(myseed)\n",
    "torch.manual_seed(myseed)\n",
    "if torch.cuda.is_available():\n",
    "    torch.cuda.manual_seed_all(myseed)"
   ]
  },
  {
   "cell_type": "markdown",
   "id": "d0a7d6f0-4a66-4bc9-bd5a-3fe5b67c67be",
   "metadata": {
    "id": "D0ivMf-jVaVK"
   },
   "source": [
    "### Datasets"
   ]
  },
  {
   "cell_type": "code",
   "execution_count": 5,
   "id": "4a0cb390-fbd3-4cc9-a387-1ecd670cafec",
   "metadata": {
    "colab": {
     "background_save": true
    },
    "id": "xBdtPhKwVaVL",
    "tags": []
   },
   "outputs": [],
   "source": [
    "class DADataset(Dataset):\n",
    "    def __init__(self, path, part, files=None):\n",
    "        super(DADataset, self).__init__()\n",
    "        self.path = path\n",
    "        self.files = sorted([os.path.join(path, x) for x in os.listdir(path)])\n",
    "        random.seed(8)  # Use random.seed to ensure reproducibility\n",
    "        random.shuffle(self.files)\n",
    "        total_files = len(self.files)\n",
    "        cutTrain = total_files // 10 * 8\n",
    "        cutTest = total_files // 10 * 9\n",
    "        if part == \"train\":\n",
    "            self.files = self.files[:cutTrain]\n",
    "        elif part == \"val\":\n",
    "            self.files = self.files[cutTrain:cutTest]\n",
    "        elif part == \"test\":\n",
    "            self.files = self.files[cutTest:]\n",
    "        else:\n",
    "            raise ValueError(\"Invalid part. Must be 'train', 'val', or 'test'.\")\n",
    "        if files is not None:\n",
    "            self.files = files\n",
    "\n",
    "    def __len__(self):\n",
    "        return len(self.files)\n",
    "\n",
    "    def __getitem__(self, idx):\n",
    "        fname = self.files[idx]\n",
    "        \n",
    "        # Split the string using the underscore as a delimiter\n",
    "        pid = fname.split(\"\\\\\")[-1].split(\"_\")[-2]\n",
    "        slice_num = int(fname.split(\"\\\\\")[-1].split(\"_\")[-1])\n",
    "        im = torch.from_numpy(np.load(fname + \"/train.npy\")).float()\n",
    "        label = torch.from_numpy(np.load(fname + \"/val.npy\")).float()\n",
    "\n",
    "        return pid, slice_num, im, label"
   ]
  },
  {
   "cell_type": "markdown",
   "id": "d9ed6f57-dc1b-4224-9faf-d6357b617963",
   "metadata": {
    "id": "ZPFkDwug61PZ"
   },
   "source": [
    "### Model"
   ]
  },
  {
   "cell_type": "code",
   "execution_count": 6,
   "id": "2b6bf3c5-4a1f-4322-954c-831962241837",
   "metadata": {
    "colab": {
     "background_save": true
    },
    "id": "b_kDECOJVaVL",
    "tags": []
   },
   "outputs": [],
   "source": [
    "class UNet(nn.Module):\n",
    "    def __init__(self):\n",
    "        super(UNet, self).__init__()\n",
    "        self.down_conv1 = self.double_conv(2, 64)\n",
    "        self.down_conv2 = self.double_conv(64, 128)\n",
    "        self.down_conv3 = self.double_conv(128, 256)\n",
    "        self.down_conv4 = self.double_conv(256, 512)\n",
    "        self.up_conv1 = self.double_conv(512 + 256, 256)\n",
    "        self.up_conv2 = self.double_conv(256 + 128, 128)\n",
    "        self.up_conv3 = self.double_conv(128 + 64, 64)\n",
    "        self.up_conv4 = nn.Conv2d(64, 1, kernel_size=1)\n",
    "        self.maxpool = nn.MaxPool2d(2)\n",
    "        self.upsample = nn.Upsample(scale_factor=2, mode='bilinear', align_corners=True)\n",
    "    \n",
    "    def double_conv(self, in_channels, out_channels):\n",
    "        return nn.Sequential(\n",
    "            nn.Conv2d(in_channels, out_channels, kernel_size=3, padding=1),\n",
    "            nn.ReLU(inplace=True),\n",
    "            nn.Conv2d(out_channels, out_channels, kernel_size=3, padding=1),\n",
    "            nn.ReLU(inplace=True)\n",
    "        )\n",
    "\n",
    "    def forward(self, x):\n",
    "        # Downward path\n",
    "        x1 = self.down_conv1(x)\n",
    "        x2 = self.maxpool(x1)\n",
    "        x3 = self.down_conv2(x2)\n",
    "        x4 = self.maxpool(x3)\n",
    "        x5 = self.down_conv3(x4)\n",
    "        x6 = self.maxpool(x5)\n",
    "        x7 = self.down_conv4(x6)\n",
    "\n",
    "        # Upward path\n",
    "        x = self.upsample(x7)\n",
    "        x = torch.cat([x, x5], dim=1)\n",
    "        x = self.up_conv1(x)\n",
    "        x = self.upsample(x)\n",
    "        x = torch.cat([x, x3], dim=1)\n",
    "        x = self.up_conv2(x)\n",
    "        x = self.upsample(x)\n",
    "        x = torch.cat([x, x1], dim=1)\n",
    "        x = self.up_conv3(x)\n",
    "        x = self.up_conv4(x)\n",
    "        \n",
    "        return x"
   ]
  },
  {
   "cell_type": "markdown",
   "id": "1b6d8ddf-5699-4cdb-a41f-faae3f44eb7c",
   "metadata": {
    "id": "xgnIOaID687b"
   },
   "source": [
    "### Configurations"
   ]
  },
  {
   "cell_type": "code",
   "execution_count": 7,
   "id": "af60f0b6-5a40-49c5-8187-e2e0bf8a791d",
   "metadata": {
    "colab": {
     "background_save": true
    },
    "id": "2_OeWtstVaVO",
    "tags": []
   },
   "outputs": [],
   "source": [
    "# \"cuda\" only when GPUs are available.\n",
    "device = torch.device(\"cuda\" if torch.cuda.is_available() else \"cpu\")\n",
    "\n",
    "# Initialize a model and put it on the specified device.\n",
    "model = UNet().to(device)\n",
    "\n",
    "# The number of batch size.\n",
    "batch_size = 10\n",
    "\n",
    "# The number of training epochs.\n",
    "n_epochs = 10\n",
    "\n",
    "# If no improvement in 'patience' epochs, early stop.\n",
    "patience = 10\n",
    "\n",
    "# For the classification task, we use mean squared error as the measurement of performance.\n",
    "criterion = nn.MSELoss()\n",
    "\n",
    "# Initialize optimizer. You may fine-tune some hyperparameters such as learning rate on your own.\n",
    "optimizer = torch.optim.Adam(model.parameters(), lr=0.001, weight_decay=1e-5)"
   ]
  },
  {
   "cell_type": "markdown",
   "id": "75568b60-a514-41fc-b53a-22c4979af14c",
   "metadata": {
    "id": "rw2y9Uhw7wr2"
   },
   "source": [
    "### Dataloader for test"
   ]
  },
  {
   "cell_type": "code",
   "execution_count": 8,
   "id": "8935df60-1df4-4b94-89f0-b980dfa5837f",
   "metadata": {
    "id": "B9QNdHIXVaVP",
    "tags": []
   },
   "outputs": [],
   "source": [
    "# Construct test datasets.\n",
    "# The argument \"loader\" tells how torchvision reads the data.\n",
    "\n",
    "test_set =  DADataset(\"../Luna16_data/split2_data\", \"test\")\n",
    "test_loader = DataLoader(test_set, batch_size=batch_size, shuffle=False, num_workers=0, pin_memory=True)"
   ]
  },
  {
   "cell_type": "markdown",
   "id": "a60413cf-0248-43f9-b70a-98393e2d3259",
   "metadata": {
    "id": "G31uyjpvVaVP"
   },
   "source": [
    "### Testing"
   ]
  },
  {
   "cell_type": "code",
   "execution_count": 9,
   "id": "dcf03e61-93d7-41cc-958c-4871a6da3b94",
   "metadata": {
    "tags": []
   },
   "outputs": [],
   "source": [
    "import matplotlib.pyplot as plt"
   ]
  },
  {
   "cell_type": "code",
   "execution_count": 10,
   "id": "4b83239d-a923-4c52-8893-1cb0f43a6928",
   "metadata": {
    "id": "bpLtxx5FVaVP",
    "tags": []
   },
   "outputs": [
    {
     "data": {
      "application/vnd.jupyter.widget-view+json": {
       "model_id": "e72e021419d446a185aa2d6a67e8e2d5",
       "version_major": 2,
       "version_minor": 0
      },
      "text/plain": [
       "  0%|          | 0/2256 [00:00<?, ?it/s]"
      ]
     },
     "metadata": {},
     "output_type": "display_data"
    },
    {
     "name": "stdout",
     "output_type": "stream",
     "text": [
      "Average MAE: 29.122181471992047\n",
      "Average MSE: 3216.692749801257\n",
      "Average IoU: 0.8193610864183681\n",
      "Average Dice Coefficient: 0.8944856765146225\n"
     ]
    }
   ],
   "source": [
    "model_best = UNet().to(device)\n",
    "model_best.load_state_dict(torch.load(f\"{_exp_name}_best.ckpt\"))\n",
    "model_best.eval()\n",
    "\n",
    "# Initialize variables to store evaluation metrics\n",
    "mae_total = 0.0\n",
    "mse_total = 0.0\n",
    "iou_total = 0.0\n",
    "dice_total = 0.0\n",
    "num_samples = 0\n",
    "\n",
    "with torch.no_grad():\n",
    "    for pid, slice_num, data, truth in tqdm(test_loader):\n",
    "        test_pred = model_best(data.to(device))\n",
    "        \n",
    "        # Convert tensors to NumPy arrays\n",
    "        predict = test_pred.cpu().data.numpy().squeeze()[0]\n",
    "        tru = truth.cpu().data.numpy()[0]\n",
    "        \n",
    "        # Calculate Mean Absolute Error (MAE)\n",
    "        mae = np.abs(predict - tru).mean()\n",
    "        mae_total += mae\n",
    "        \n",
    "        # Calculate Mean Squared Error (MSE)\n",
    "        mse = ((predict - tru) ** 2).mean()\n",
    "        mse_total += mse\n",
    "        \n",
    "        # Calculate Intersection over Union (IoU)\n",
    "        intersection = np.logical_and(predict > 0, tru > 0)\n",
    "        union = np.logical_or(predict > 0, tru > 0)\n",
    "        iou = np.sum(intersection) / np.sum(union)\n",
    "        iou_total += iou\n",
    "        \n",
    "        # Calculate Dice Coefficient\n",
    "        dice = (2.0 * np.sum(intersection)) / (np.sum(predict > 0) + np.sum(tru > 0))\n",
    "        dice_total += dice\n",
    "        \n",
    "        num_samples += 1\n",
    "\n",
    "# Calculate the average metrics over all test samples\n",
    "average_mae = mae_total / num_samples\n",
    "average_mse = mse_total / num_samples\n",
    "average_iou = iou_total / num_samples\n",
    "average_dice = dice_total / num_samples\n",
    "\n",
    "print(f\"Average MAE: {average_mae}\")\n",
    "print(f\"Average MSE: {average_mse}\")\n",
    "print(f\"Average IoU: {average_iou}\")\n",
    "print(f\"Average Dice Coefficient: {average_dice}\")"
   ]
  },
  {
   "cell_type": "markdown",
   "id": "61da93d8-35ef-4c30-9063-dfdb2ed2f3ab",
   "metadata": {},
   "source": [
    "Mean Absolute Error (MAE):\n",
    "\n",
    "MAE measures the absolute difference between the predicted and ground truth values on a per-pixel/voxel basis.\n",
    "A lower MAE indicates better accuracy.\n",
    "Benchmark: MAE values typically range from 0 to a few units (e.g., 0 to 5 HU for CT images).\n",
    "\n",
    "Mean Squared Error (MSE):\n",
    "MSE measures the squared difference between predicted and ground truth values on a per-pixel/voxel basis.\n",
    "A lower MSE indicates better accuracy.\n",
    "Benchmark: MSE values typically range from 0 to a few tens (e.g., 0 to 100) for HU values.\n",
    "\n",
    "Intersection over Union (IoU):\n",
    "IoU measures the overlap between the predicted and ground truth binary masks.\n",
    "It ranges from 0 (no overlap) to 1 (perfect overlap).\n",
    "Benchmark: IoU values above 0.7 are generally considered good for medical image segmentation.\n",
    "\n",
    "Dice Coefficient:\n",
    "The Dice Coefficient also measures the overlap between the predicted and ground truth binary masks.\n",
    "It ranges from 0 (no overlap) to 1 (perfect overlap).\n",
    "Benchmark: Dice values above 0.7 are considered good for medical image segmentation."
   ]
  }
 ],
 "metadata": {
  "kernelspec": {
   "display_name": "Python 3 (ipykernel)",
   "language": "python",
   "name": "python3"
  },
  "language_info": {
   "codemirror_mode": {
    "name": "ipython",
    "version": 3
   },
   "file_extension": ".py",
   "mimetype": "text/x-python",
   "name": "python",
   "nbconvert_exporter": "python",
   "pygments_lexer": "ipython3",
   "version": "3.11.4"
  }
 },
 "nbformat": 4,
 "nbformat_minor": 5
}
