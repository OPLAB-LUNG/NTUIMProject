{
 "cells": [
  {
   "cell_type": "markdown",
   "id": "bedadee8",
   "metadata": {},
   "source": [
    "### This file is for training the yolo model"
   ]
  },
  {
   "cell_type": "code",
   "execution_count": 6,
   "id": "986202bc-ee80-4b49-9b15-a758f73d1859",
   "metadata": {
    "colab": {
     "base_uri": "https://localhost:8080/"
    },
    "executionInfo": {
     "elapsed": 1263,
     "status": "ok",
     "timestamp": 1697476159145,
     "user": {
      "displayName": "Wilson Hsu",
      "userId": "14151022824378194770"
     },
     "user_tz": -480
    },
    "id": "0y8n5jG1O060",
    "outputId": "2aa51a99-729b-48c5-c1a0-06bd83882acf"
   },
   "outputs": [
    {
     "name": "stdout",
     "output_type": "stream",
     "text": [
      "Tue Oct 31 21:30:34 2023       \n",
      "+---------------------------------------------------------------------------------------+\n",
      "| NVIDIA-SMI 536.23                 Driver Version: 536.23       CUDA Version: 12.2     |\n",
      "|-----------------------------------------+----------------------+----------------------+\n",
      "| GPU  Name                     TCC/WDDM  | Bus-Id        Disp.A | Volatile Uncorr. ECC |\n",
      "| Fan  Temp   Perf          Pwr:Usage/Cap |         Memory-Usage | GPU-Util  Compute M. |\n",
      "|                                         |                      |               MIG M. |\n",
      "|=========================================+======================+======================|\n",
      "|   0  NVIDIA GeForce RTX 3090      WDDM  | 00000000:01:00.0 Off |                  N/A |\n",
      "|  0%   40C    P8              28W / 370W |   4431MiB / 24576MiB |      0%      Default |\n",
      "|                                         |                      |                  N/A |\n",
      "+-----------------------------------------+----------------------+----------------------+\n",
      "                                                                                         \n",
      "+---------------------------------------------------------------------------------------+\n",
      "| Processes:                                                                            |\n",
      "|  GPU   GI   CI        PID   Type   Process name                            GPU Memory |\n",
      "|        ID   ID                                                             Usage      |\n",
      "|=======================================================================================|\n",
      "|    0   N/A  N/A      2352      C   C:\\Users\\oplab\\anaconda3\\python.exe       N/A      |\n",
      "|    0   N/A  N/A      3576      C   C:\\Users\\oplab\\anaconda3\\python.exe       N/A      |\n",
      "|    0   N/A  N/A      6936    C+G   ...cal\\Microsoft\\OneDrive\\OneDrive.exe    N/A      |\n",
      "|    0   N/A  N/A      8452    C+G   ...ekyb3d8bbwe\\PhoneExperienceHost.exe    N/A      |\n",
      "|    0   N/A  N/A      9008    C+G   ...CBS_cw5n1h2txyewy\\TextInputHost.exe    N/A      |\n",
      "|    0   N/A  N/A      9304    C+G   ...oogle\\Chrome\\Application\\chrome.exe    N/A      |\n",
      "|    0   N/A  N/A     11228    C+G   ...crosoft\\Edge\\Application\\msedge.exe    N/A      |\n",
      "|    0   N/A  N/A     15500    C+G   ...on\\117.0.2045.60\\msedgewebview2.exe    N/A      |\n",
      "|    0   N/A  N/A     16964    C+G   ...2txyewy\\StartMenuExperienceHost.exe    N/A      |\n",
      "|    0   N/A  N/A     17480    C+G   C:\\Windows\\explorer.exe                   N/A      |\n",
      "|    0   N/A  N/A     18416    C+G   ....Search_cw5n1h2txyewy\\SearchApp.exe    N/A      |\n",
      "|    0   N/A  N/A     21204    C+G   ...5n1h2txyewy\\ShellExperienceHost.exe    N/A      |\n",
      "|    0   N/A  N/A     21292    C+G   ....0_x64__8wekyb3d8bbwe\\PhotosApp.exe    N/A      |\n",
      "|    0   N/A  N/A     21728    C+G   ...Programs\\Microsoft VS Code\\Code.exe    N/A      |\n",
      "|    0   N/A  N/A     22132    C+G   ...1.0_x64__8wekyb3d8bbwe\\Video.UI.exe    N/A      |\n",
      "|    0   N/A  N/A     22840    C+G   ....Search_cw5n1h2txyewy\\SearchApp.exe    N/A      |\n",
      "+---------------------------------------------------------------------------------------+\n"
     ]
    }
   ],
   "source": [
    "!nvidia-smi"
   ]
  },
  {
   "cell_type": "code",
   "execution_count": 1,
   "metadata": {},
   "outputs": [
    {
     "data": {
      "text/plain": [
       "<module 'ultralytics' from 'C:\\\\Users\\\\oplab\\\\AppData\\\\Roaming\\\\Python\\\\Python39\\\\site-packages\\\\ultralytics\\\\__init__.py'>"
      ]
     },
     "execution_count": 1,
     "metadata": {},
     "output_type": "execute_result"
    }
   ],
   "source": [
    "import importlib\n",
    "import ultralytics \n",
    "\n",
    "# Modify your code\n",
    "\n",
    "importlib.reload(ultralytics)"
   ]
  },
  {
   "cell_type": "code",
   "execution_count": 7,
   "id": "1e1eb60d-42f7-4afa-9ade-3560069c0b34",
   "metadata": {
    "colab": {
     "base_uri": "https://localhost:8080/"
    },
    "executionInfo": {
     "elapsed": 4,
     "status": "ok",
     "timestamp": 1697476159784,
     "user": {
      "displayName": "Wilson Hsu",
      "userId": "14151022824378194770"
     },
     "user_tz": -480
    },
    "id": "KPM-HpAAPj3F",
    "outputId": "fc74225c-95d5-486a-d311-f9f61fdc9ee9"
   },
   "outputs": [
    {
     "name": "stdout",
     "output_type": "stream",
     "text": [
      "E:\\LUNA\\nodule_detection\\yolo\n"
     ]
    }
   ],
   "source": [
    "import os\n",
    "home = os.getcwd()\n",
    "print(home)"
   ]
  },
  {
   "cell_type": "code",
   "execution_count": 3,
   "id": "53146358-a428-49d9-a858-754a214f76ad",
   "metadata": {
    "colab": {
     "base_uri": "https://localhost:8080/"
    },
    "executionInfo": {
     "elapsed": 3344,
     "status": "ok",
     "timestamp": 1697476163125,
     "user": {
      "displayName": "Wilson Hsu",
      "userId": "14151022824378194770"
     },
     "user_tz": -480
    },
    "id": "iXLA3DnjhKye",
    "outputId": "703c0500-d20b-46f6-a8ff-071ee43f89eb"
   },
   "outputs": [],
   "source": [
    "# !pip install ultralytics"
   ]
  },
  {
   "cell_type": "code",
   "execution_count": 8,
   "id": "7060ebc9-260f-4673-856d-1c1dfd0e3a15",
   "metadata": {
    "colab": {
     "base_uri": "https://localhost:8080/"
    },
    "executionInfo": {
     "elapsed": 3817,
     "status": "ok",
     "timestamp": 1697476166938,
     "user": {
      "displayName": "Wilson Hsu",
      "userId": "14151022824378194770"
     },
     "user_tz": -480
    },
    "id": "ENMSIOu-gu3h",
    "outputId": "92cdcd4c-f5e4-41ee-8ce7-35332d2823d6"
   },
   "outputs": [],
   "source": [
    "from ultralytics import YOLO\n",
    "from IPython.display import display, Image\n",
    "from IPython import display\n",
    "# display.clear_output()\n",
    "# !yolo checks"
   ]
  },
  {
   "cell_type": "code",
   "execution_count": 5,
   "id": "b5347155-e06c-4499-b744-3df72f063eff",
   "metadata": {},
   "outputs": [],
   "source": [
    "# !pip install --user roboflow"
   ]
  },
  {
   "cell_type": "code",
   "execution_count": 9,
   "id": "38c0eb1e-f9cb-420d-9856-6e367eba2a47",
   "metadata": {},
   "outputs": [
    {
     "name": "stdout",
     "output_type": "stream",
     "text": [
      "loading Roboflow workspace...\n",
      "loading Roboflow project...\n",
      "Dependency ultralytics==8.0.134 is required but found version=8.0.173, to fix: `pip install ultralytics==8.0.134`\n"
     ]
    },
    {
     "name": "stderr",
     "output_type": "stream",
     "text": [
      "Downloading Dataset Version Zip in nodule-dectection-segmented-(back-up-1 to yolov8:: 100%|█| 68554/68554 [00:23<00:00,"
     ]
    },
    {
     "name": "stdout",
     "output_type": "stream",
     "text": [
      "\n"
     ]
    },
    {
     "name": "stderr",
     "output_type": "stream",
     "text": [
      "\n",
      "Extracting Dataset Version Zip to nodule-dectection-segmented-(back-up-1 in yolov8:: 100%|█| 6000/6000 [00:01<00:00, 31\n"
     ]
    }
   ],
   "source": [
    "from roboflow import Roboflow\n",
    "rf = Roboflow(api_key=\"9xi9FppjPhode8xyFfEv\")\n",
    "project = rf.workspace(\"ntu-7u4ji\").project(\"nodule-dectection-segmented-back-up\")\n",
    "dataset = project.version(1).download(\"yolov8\")"
   ]
  },
  {
   "cell_type": "code",
   "execution_count": 4,
   "id": "fedd843f-8d91-4b08-9b6b-925c13a39444",
   "metadata": {
    "colab": {
     "base_uri": "https://localhost:8080/"
    },
    "executionInfo": {
     "elapsed": 15122,
     "status": "ok",
     "timestamp": 1697476182057,
     "user": {
      "displayName": "Wilson Hsu",
      "userId": "14151022824378194770"
     },
     "user_tz": -480
    },
    "id": "Q8Kb8X_5QPbI",
    "outputId": "081cae19-2208-4c7c-9675-a7962b870443"
   },
   "outputs": [
    {
     "name": "stdout",
     "output_type": "stream",
     "text": [
      "loading Roboflow workspace...\n",
      "loading Roboflow project...\n",
      "Dependency ultralytics==8.0.134 is required but found version=8.0.173, to fix: `pip install ultralytics==8.0.134`\n"
     ]
    },
    {
     "name": "stderr",
     "output_type": "stream",
     "text": [
      "Downloading Dataset Version Zip in nodule-detection-origin-(back-up-1 to yolov8:: 100%|█| 91554/91554 [00:31<00:00, 292"
     ]
    },
    {
     "name": "stdout",
     "output_type": "stream",
     "text": [
      "\n"
     ]
    },
    {
     "name": "stderr",
     "output_type": "stream",
     "text": [
      "\n",
      "Extracting Dataset Version Zip to nodule-detection-origin-(back-up-1 in yolov8:: 100%|█| 6052/6052 [00:01<00:00, 3175.4\n"
     ]
    }
   ],
   "source": [
    "# from roboflow import Roboflow\n",
    "# rf = Roboflow(api_key=\"9xi9FppjPhode8xyFfEv\")\n",
    "# project = rf.workspace(\"ntu-7u4ji\").project(\"nodule-detection-origin-back-up\")\n",
    "# dataset = project.version(1).download(\"yolov8\")"
   ]
  },
  {
   "cell_type": "markdown",
   "id": "5fda2e27-d054-4869-934b-fd845f6d06f5",
   "metadata": {
    "id": "K6OC_Yi4d78A"
   },
   "source": [
    "# training"
   ]
  },
  {
   "cell_type": "code",
   "execution_count": 10,
   "id": "17b4af2c-9c23-45b1-8790-4f1159bb317e",
   "metadata": {},
   "outputs": [
    {
     "data": {
      "text/plain": [
       "'E:\\\\LUNA\\\\nodule_detection\\\\yolo\\\\nodule-dectection-segmented-(back-up-1'"
      ]
     },
     "execution_count": 10,
     "metadata": {},
     "output_type": "execute_result"
    }
   ],
   "source": [
    "dataset.location"
   ]
  },
  {
   "cell_type": "code",
   "execution_count": 8,
   "id": "a42ab80f-8185-422b-98bd-270b0ec06af7",
   "metadata": {
    "colab": {
     "base_uri": "https://localhost:8080/"
    },
    "executionInfo": {
     "elapsed": 5848180,
     "status": "ok",
     "timestamp": 1697482115019,
     "user": {
      "displayName": "Wilson Hsu",
      "userId": "14151022824378194770"
     },
     "user_tz": -480
    },
    "id": "3qVUNQ0bQwpb",
    "outputId": "325890f5-bfc7-4bc9-a009-ce3d051665a5"
   },
   "outputs": [],
   "source": [
    "!yolo task=detect mode=train model=yolov8s.pt data={dataset.location}/data.yaml epochs=100 imgsz=640"
   ]
  },
  {
   "cell_type": "code",
   "execution_count": null,
   "id": "7d2bfcdb-38bc-4c37-a939-3faaa82750dc",
   "metadata": {},
   "outputs": [],
   "source": [
    "yolo task=detect mode=train model=yolov8s.pt data=\"E:/LUNA/Autolabel/aug_lung_aug/data.yaml\" epochs=100 imgsz=640"
   ]
  },
  {
   "cell_type": "markdown",
   "metadata": {},
   "source": [
    "### 底下兩個都是跑predict用的 在圖上標出bbox"
   ]
  },
  {
   "cell_type": "code",
   "execution_count": 15,
   "id": "c9440cfc-acd5-4827-b5d9-c5fc310ff249",
   "metadata": {
    "executionInfo": {
     "elapsed": 3,
     "status": "ok",
     "timestamp": 1697476186886,
     "user": {
      "displayName": "Wilson Hsu",
      "userId": "14151022824378194770"
     },
     "user_tz": -480
    },
    "id": "NarG7rn0Re1-"
   },
   "outputs": [],
   "source": [
    "!yolo task=detect \\\n",
    "mode=predict \\\n",
    "model={home}/runs/detect/train2/weights/best.pt \\\n",
    "conf=0.25 \\\n",
    "source={dataset.location}/test/images"
   ]
  },
  {
   "cell_type": "code",
   "execution_count": null,
   "id": "27eb5db3-daa5-4d57-afaf-e77ed15a4c20",
   "metadata": {},
   "outputs": [],
   "source": [
    "yolo task=detect mode=predict model=\"E:\\LUNA\\nodule_detection\\yolo\\runs\\detect\\train13\\weights\\best.pt\" conf=0.25 source=\"E:\\LUNA\\Autolabel\\1126\\yolo_lung_aug\\Test\\images\""
   ]
  },
  {
   "cell_type": "markdown",
   "metadata": {},
   "source": [
    "### 評估測試test結果 下面兩個是一樣的功能"
   ]
  },
  {
   "cell_type": "code",
   "execution_count": null,
   "metadata": {},
   "outputs": [],
   "source": [
    "yolo val model=\"E:\\LUNA\\nodule_detection\\yolo\\runs\\detect\\train14\\weights\\best.pt\" data=\"E:/LUNA/Autolabel/aug_origin_aug/data.yaml\" split=test"
   ]
  },
  {
   "cell_type": "code",
   "execution_count": null,
   "metadata": {},
   "outputs": [],
   "source": [
    "yolo task=detect mode=val model=\"E:\\LUNA\\nodule_detection\\yolo\\runs\\detect\\train13\\weights\\best.pt\" data=\"E:/LUNA/Autolabel/1126/yolo_origin_aug/data.yaml\" split=test"
   ]
  }
 ],
 "metadata": {
  "kernelspec": {
   "display_name": "yolo",
   "language": "python",
   "name": "python3"
  },
  "language_info": {
   "codemirror_mode": {
    "name": "ipython",
    "version": 3
   },
   "file_extension": ".py",
   "mimetype": "text/x-python",
   "name": "python",
   "nbconvert_exporter": "python",
   "pygments_lexer": "ipython3",
   "version": "3.9.17"
  }
 },
 "nbformat": 4,
 "nbformat_minor": 5
}
