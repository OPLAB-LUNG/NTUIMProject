{
 "cells": [
  {
   "cell_type": "code",
   "execution_count": 1,
   "id": "dea19ec5-8ecc-4d15-94dd-5e424facd310",
   "metadata": {
    "tags": []
   },
   "outputs": [],
   "source": [
    "import json\n",
    "\n",
    "with open('_annotations_origin_aug.json') as f:\n",
    "    detection_test_data = json.load(f)"
   ]
  },
  {
   "cell_type": "code",
   "execution_count": 2,
   "id": "0d0e3af6-fd8e-4794-b957-b0ef28070ed2",
   "metadata": {
    "tags": []
   },
   "outputs": [
    {
     "data": {
      "text/plain": [
       "dict_keys(['images', 'categories', 'annotations'])"
      ]
     },
     "execution_count": 2,
     "metadata": {},
     "output_type": "execute_result"
    }
   ],
   "source": [
    "detection_test_data.keys()"
   ]
  },
  {
   "cell_type": "code",
   "execution_count": 23,
   "id": "94942fd8-b092-48a5-9b03-f5c4fa9d2373",
   "metadata": {
    "tags": []
   },
   "outputs": [
    {
     "data": {
      "text/plain": [
       "{'file_name': '0-(125)-[0]_0_1.3.6.1.4.1.14519.5.2.1.6279.6001.997611074084993415992563148335.png',\n",
       " 'height': 640,\n",
       " 'width': 640,\n",
       " 'id': 0}"
      ]
     },
     "execution_count": 23,
     "metadata": {},
     "output_type": "execute_result"
    }
   ],
   "source": [
    "detection_test_data['images'][0]"
   ]
  },
  {
   "cell_type": "code",
   "execution_count": 30,
   "id": "58471d06-eaa5-4bb7-9351-0a04e5ac843e",
   "metadata": {
    "tags": []
   },
   "outputs": [
    {
     "data": {
      "text/plain": [
       "'125'"
      ]
     },
     "execution_count": 30,
     "metadata": {},
     "output_type": "execute_result"
    }
   ],
   "source": [
    "detection_test_data['images'][0]['file_name'].split('(')[1].split(')')[0]"
   ]
  },
  {
   "cell_type": "code",
   "execution_count": 12,
   "id": "e2093cfe-b4ea-4a1d-bffd-c7ab54175415",
   "metadata": {
    "tags": []
   },
   "outputs": [],
   "source": [
    "series_uid = detection_test_data['images'][0]['file_name'].split('_')[-1].replace('.png', '')\n",
    "i_idx = int(detection_test_data['images'][0]['file_name'].split('(')[1].split(')')[0])\n",
    "isMal = detection_test_data['annotations'][0]['category_id']"
   ]
  },
  {
   "cell_type": "code",
   "execution_count": 28,
   "id": "c020e267-5347-48c1-9514-83edb5acdc91",
   "metadata": {
    "tags": []
   },
   "outputs": [
    {
     "data": {
      "text/plain": [
       "'1.3.6.1.4.1.14519.5.2.1.6279.6001.997611074084993415992563148335'"
      ]
     },
     "execution_count": 28,
     "metadata": {},
     "output_type": "execute_result"
    }
   ],
   "source": [
    "series_uid"
   ]
  },
  {
   "cell_type": "code",
   "execution_count": 33,
   "id": "fb6ad675-6253-4696-bc4f-a1caec94b93e",
   "metadata": {
    "tags": []
   },
   "outputs": [
    {
     "data": {
      "text/plain": [
       "125"
      ]
     },
     "execution_count": 33,
     "metadata": {},
     "output_type": "execute_result"
    }
   ],
   "source": [
    "i_idx"
   ]
  },
  {
   "cell_type": "code",
   "execution_count": 29,
   "id": "96ff1e2c-83b1-411a-9b6c-25fcaa5c5ce8",
   "metadata": {
    "tags": []
   },
   "outputs": [
    {
     "data": {
      "text/plain": [
       "1"
      ]
     },
     "execution_count": 29,
     "metadata": {},
     "output_type": "execute_result"
    }
   ],
   "source": [
    "isMal"
   ]
  },
  {
   "cell_type": "code",
   "execution_count": 68,
   "id": "c88be426-dd45-43ed-9d8a-156b8c65f616",
   "metadata": {
    "tags": []
   },
   "outputs": [],
   "source": [
    "# Ground Truth Input\n",
    "import os\n",
    "import collections\n",
    "from collections import namedtuple\n",
    "import glob\n",
    "import SimpleITK as sitk\n",
    "import csv\n",
    "import functools\n",
    "from util import XyzTuple, xyz2irc, logging, getCache\n",
    "from pylidc_func import masks_build\n",
    "\n",
    "import ast"
   ]
  },
  {
   "cell_type": "code",
   "execution_count": 78,
   "id": "6b8e3868-1e3f-4edb-9f75-e32b2d216b58",
   "metadata": {
    "tags": []
   },
   "outputs": [],
   "source": [
    "CandidateInfoTuple = namedtuple('CandidateInfoTuple', 'isNodule_bool, hasAnnotation_bool, isMal_bool, diameter_mm, series_uid, center_xyz, classes')\n",
    "\n",
    "def getCandidateInfoDict(requireOnDisk_bool=True):  #把candidateInfoList包成Dict\n",
    "    candidateInfo_list = getCandidateInfoList(requireOnDisk_bool)\n",
    "    candidateInfo_dict = {}\n",
    "\n",
    "    for candidateInfo_tup in candidateInfo_list:\n",
    "        candidateInfo_dict.setdefault(candidateInfo_tup.series_uid,\n",
    "                                        []).append(candidateInfo_tup)\n",
    "\n",
    "    return candidateInfo_dict\n",
    "\n",
    "def getCandidateInfoList(requireOnDisk_bool=True):\n",
    "    mhd_list = glob.glob('D:/IMProject/LunaData/subset*/*.mhd')\n",
    "    # mhd_list = glob.glob('D:/IMProject/LunaData/subset0/*.mhd')\n",
    "    presentOnDisk_set = {os.path.split(p)[-1][:-4] for p in mhd_list}\n",
    "\n",
    "    candidateInfo_list = []\n",
    "    with open('D:/IMProject/LunaData/annotations_with_malignancy.csv', \"r\") as f:\n",
    "        for row in list(csv.reader(f))[1:]:\n",
    "            series_uid = row[0]\n",
    "            annotationCenter_xyz = tuple([float(x) for x in row[1:4]])\n",
    "            annotationDiameter_mm = float(row[4])\n",
    "            isMal_bool = {'False': False, 'True': True}[row[5]] #it record the malignancy or not\n",
    "            classes = 0 if isMal_bool else 1\n",
    "\n",
    "            if series_uid not in presentOnDisk_set and requireOnDisk_bool:\n",
    "                continue\n",
    "\n",
    "            candidateInfo_list.append(\n",
    "                CandidateInfoTuple(\n",
    "                    True,\n",
    "                    True,\n",
    "                    isMal_bool,\n",
    "                    annotationDiameter_mm,\n",
    "                    series_uid,\n",
    "                    annotationCenter_xyz,\n",
    "                    classes\n",
    "                )\n",
    "            )\n",
    "\n",
    "    candidateInfo_list.sort(reverse=True)\n",
    "    return candidateInfo_list\n",
    "\n",
    "DetectionDataInfoTuple = namedtuple('DetectionDataInfoTuple', 'isNodule_bool, hasAnnotation_bool, isMal_bool, diameter_mm, series_uid, center_xyz, z_range, xy_ranges')\n",
    "\n",
    "def getDetectionDataList(requireOnDisk_bool=True):\n",
    "    mhd_list = glob.glob('D:/IMProject/LunaData/subset*/*.mhd')\n",
    "    # mhd_list = glob.glob('D:/IMProject/LunaData/subset0/*.mhd')\n",
    "    presentOnDisk_set = {os.path.split(p)[-1][:-4] for p in mhd_list}\n",
    "\n",
    "    detectionDataInfo_list = []\n",
    "    with open('D:/IMProject/annotations_object_detection_1127.csv', \"r\") as f:\n",
    "        for row in list(csv.reader(f))[1:]:\n",
    "            series_uid = row[0]\n",
    "            annotationCenter_xyz = tuple([float(x) for x in row[1:4]])\n",
    "            annotationDiameter_mm = float(row[4])\n",
    "            isMal_bool = row[5] == 1.0\n",
    "            z_range = ast.literal_eval(row[7])\n",
    "            # print(cbbox, type(cbbox))\n",
    "            xy_ranges = ast.literal_eval(row[8])\n",
    "            # print(cbbox_detail, type(cbbox_detail)\n",
    "            \n",
    "#             if series_uid not in presentOnDisk_set and requireOnDisk_bool:\n",
    "#                 continue\n",
    "\n",
    "            detectionDataInfo_list.append(\n",
    "                DetectionDataInfoTuple(\n",
    "                    True,\n",
    "                    True,\n",
    "                    isMal_bool,\n",
    "                    annotationDiameter_mm,\n",
    "                    series_uid,\n",
    "                    annotationCenter_xyz,\n",
    "                    z_range,\n",
    "                    xy_ranges\n",
    "                )\n",
    "            )\n",
    "\n",
    "    detectionDataInfo_list.sort(reverse=True)\n",
    "    return detectionDataInfo_list"
   ]
  },
  {
   "cell_type": "code",
   "execution_count": 147,
   "id": "229c6328-dcf4-438e-ac10-00580e4123b7",
   "metadata": {
    "tags": []
   },
   "outputs": [],
   "source": [
    "class Ct:\n",
    "    def __init__(self, series_uid):\n",
    "        mhd_path = glob.glob('D:/IMProject/LunaData/subset*/{}.mhd'.format(series_uid))\n",
    "        # mhd_path = glob.glob('D:/IMProject/LunaData/subset0/{}.mhd'.format(series_uid))\n",
    "        # print(mhd_path)\n",
    "\n",
    "        ct_mhd = sitk.ReadImage(mhd_path)\n",
    "        if ct_mhd.GetDimension()==4 and ct_mhd.GetSize()[3]==1:\n",
    "            ct_mhd = ct_mhd[...,0]\n",
    "        self.hu_a = np.array(sitk.GetArrayFromImage(ct_mhd), dtype=np.float32)\n",
    "\n",
    "        # CTs are natively expressed in https://en.wikipedia.org/wiki/Hounsfield_scale\n",
    "        # HU are scaled oddly, with 0 g/cc (air, approximately) being -1000 and 1 g/cc (water) being 0.\n",
    "\n",
    "        self.series_uid = series_uid\n",
    "        self.origin_xyz = XyzTuple(*ct_mhd.GetOrigin())\n",
    "        self.vxSize_xyz = XyzTuple(*ct_mhd.GetSpacing())\n",
    "        self.direction_a = np.array(ct_mhd.GetDirection()).reshape(3, 3)\n",
    "\n",
    "        self.mask = masks_build(series_uid, self.hu_a)\n",
    "        \n",
    "    def getRawCandidate(self, center_xyz, width_irc):\n",
    "        center_irc = xyz2irc(center_xyz, self.origin_xyz, self.vxSize_xyz, self.direction_a)\n",
    "\n",
    "        slice_list = []\n",
    "        for axis, center_val in enumerate(center_irc):\n",
    "            start_ndx = int(round(center_val - width_irc[axis]/2))\n",
    "            end_ndx = int(start_ndx + width_irc[axis])\n",
    "\n",
    "            assert center_val >= 0 and center_val < self.hu_a.shape[axis], repr([self.series_uid, center_xyz, self.origin_xyz, self.vxSize_xyz, center_irc, axis])\n",
    "\n",
    "            if start_ndx < 0:\n",
    "                # log.warning(\"Crop outside of CT array: {} {}, center:{} shape:{} width:{}\".format(\n",
    "                #     self.series_uid, center_xyz, center_irc, self.hu_a.shape, width_irc))\n",
    "                start_ndx = 0\n",
    "                end_ndx = int(width_irc[axis])\n",
    "\n",
    "            if end_ndx > self.hu_a.shape[axis]:\n",
    "                # log.warning(\"Crop outside of CT array: {} {}, center:{} shape:{} width:{}\".format(\n",
    "                #     self.series_uid, center_xyz, center_irc, self.hu_a.shape, width_irc))\n",
    "                end_ndx = self.hu_a.shape[axis]\n",
    "                start_ndx = int(self.hu_a.shape[axis] - width_irc[axis])\n",
    "\n",
    "            slice_list.append(slice(start_ndx, end_ndx))\n",
    "\n",
    "        ct_chunk = self.hu_a[tuple(slice_list)]\n",
    "        mask_chunk = self.mask[tuple(slice_list)]\n",
    "\n",
    "        return ct_chunk, center_irc, mask_chunk\n",
    "    \n",
    "    def getDetectionTestCandidate(self, center_irc, width_irc):\n",
    "        slice_list = []\n",
    "        for axis, center_val in enumerate(center_irc):\n",
    "            start_ndx = int(round(center_val - width_irc[axis]/2))\n",
    "            end_ndx = int(start_ndx + width_irc[axis])\n",
    "\n",
    "            assert center_val >= 0 and center_val < self.hu_a.shape[axis], repr([self.series_uid, center_xyz, self.origin_xyz, self.vxSize_xyz, center_irc, axis])\n",
    "\n",
    "            if start_ndx < 0:\n",
    "                # log.warning(\"Crop outside of CT array: {} {}, center:{} shape:{} width:{}\".format(\n",
    "                #     self.series_uid, center_xyz, center_irc, self.hu_a.shape, width_irc))\n",
    "                start_ndx = 0\n",
    "                end_ndx = int(width_irc[axis])\n",
    "\n",
    "            if end_ndx > self.hu_a.shape[axis]:\n",
    "                # log.warning(\"Crop outside of CT array: {} {}, center:{} shape:{} width:{}\".format(\n",
    "                #     self.series_uid, center_xyz, center_irc, self.hu_a.shape, width_irc))\n",
    "                end_ndx = self.hu_a.shape[axis]\n",
    "                start_ndx = int(self.hu_a.shape[axis] - width_irc[axis])\n",
    "\n",
    "            slice_list.append(slice(start_ndx, end_ndx))\n",
    "\n",
    "        ct_chunk = self.hu_a[tuple(slice_list)]\n",
    "        mask_chunk = self.mask[tuple(slice_list)]\n",
    "\n",
    "        return ct_chunk, mask_chunk"
   ]
  },
  {
   "cell_type": "code",
   "execution_count": 80,
   "id": "f08901d4-1f96-4d02-852a-5f2c4c601302",
   "metadata": {
    "tags": []
   },
   "outputs": [
    {
     "data": {
      "text/plain": [
       "DetectionDataInfoTuple(isNodule_bool=True, hasAnnotation_bool=True, isMal_bool=False, diameter_mm=32.27003025, series_uid='1.3.6.1.4.1.14519.5.2.1.6279.6001.287966244644280690737019247886', center_xyz=(67.82725575, 85.37992457, -109.7467238), z_range=[85, 100], xy_ranges=[[0.6712328767, 0.6976516634, 0.0390625, 0.033203125], [0.6722113503, 0.7035225049, 0.060546875, 0.048828125], [0.6702544031, 0.7015655577, 0.068359375, 0.064453125], [0.6722113503, 0.7015655577, 0.080078125, 0.068359375], [0.6712328767, 0.7015655577, 0.0859375, 0.072265625], [0.6712328767, 0.7025440313, 0.08984375, 0.07421875], [0.6722113503, 0.7045009785, 0.087890625, 0.078125], [0.6692759295, 0.7054794521, 0.0859375, 0.080078125], [0.668297456, 0.7064579256, 0.083984375, 0.08203125], [0.6663405088, 0.7084148728, 0.080078125, 0.07421875], [0.6653620352, 0.7074363992, 0.07421875, 0.068359375], [0.6604696673, 0.7093933464, 0.056640625, 0.060546875], [0.6614481409, 0.7133072407, 0.04296875, 0.056640625], [0.6634050881, 0.7123287671, 0.0390625, 0.046875], [0.6702544031, 0.7054794521, 0.021484375, 0.017578125]])"
      ]
     },
     "execution_count": 80,
     "metadata": {},
     "output_type": "execute_result"
    }
   ],
   "source": [
    "candi_list = getDetectionDataList()\n",
    "candi_list[0]"
   ]
  },
  {
   "cell_type": "code",
   "execution_count": 81,
   "id": "336b1346-4880-44dd-87c7-c6a3ceae0983",
   "metadata": {
    "tags": []
   },
   "outputs": [
    {
     "data": {
      "text/plain": [
       "1182"
      ]
     },
     "execution_count": 81,
     "metadata": {},
     "output_type": "execute_result"
    }
   ],
   "source": [
    "len(candi_list)"
   ]
  },
  {
   "cell_type": "code",
   "execution_count": 109,
   "id": "cfb31746-a68f-467b-96e1-9fc852f0c02b",
   "metadata": {
    "tags": []
   },
   "outputs": [],
   "source": [
    "matches = [x for x in candi_list if x.series_uid=='1.3.6.1.4.1.14519.5.2.1.6279.6001.603126300703296693942875967838']"
   ]
  },
  {
   "cell_type": "code",
   "execution_count": 110,
   "id": "dfe61eb7-794e-48cf-a8d4-bb4988118d4c",
   "metadata": {
    "tags": []
   },
   "outputs": [
    {
     "data": {
      "text/plain": [
       "DetectionDataInfoTuple(isNodule_bool=True, hasAnnotation_bool=True, isMal_bool=False, diameter_mm=10.16765351, series_uid='1.3.6.1.4.1.14519.5.2.1.6279.6001.603126300703296693942875967838', center_xyz=(-31.90828695, 27.18117285, -170.1513701), z_range=[63, 68], xy_ranges=[[0.469667319, 0.5694716243, 0.0234375, 0.02734375], [0.4706457926, 0.5694716243, 0.029296875, 0.03125], [0.4706457926, 0.5684931507, 0.029296875, 0.029296875], [0.469667319, 0.5704500978, 0.02734375, 0.029296875], [0.4686888454, 0.5733855186, 0.017578125, 0.015625]])"
      ]
     },
     "execution_count": 110,
     "metadata": {},
     "output_type": "execute_result"
    }
   ],
   "source": [
    "matches[0]"
   ]
  },
  {
   "cell_type": "code",
   "execution_count": 111,
   "id": "f129664c-4b58-46f3-931f-b41a4af912c7",
   "metadata": {
    "tags": []
   },
   "outputs": [
    {
     "data": {
      "text/plain": [
       "2"
      ]
     },
     "execution_count": 111,
     "metadata": {},
     "output_type": "execute_result"
    }
   ],
   "source": [
    "65 - matches[0].z_range[0]"
   ]
  },
  {
   "cell_type": "code",
   "execution_count": 113,
   "id": "8977a022-ec65-4a2e-9d58-65f1279f8d01",
   "metadata": {
    "tags": []
   },
   "outputs": [
    {
     "data": {
      "text/plain": [
       "0.4706457926"
      ]
     },
     "execution_count": 113,
     "metadata": {},
     "output_type": "execute_result"
    }
   ],
   "source": [
    "matches[0].xy_ranges[65 - matches[0].z_range[0]][0]"
   ]
  },
  {
   "cell_type": "code",
   "execution_count": 35,
   "id": "38fc36c0-82b9-4555-aba9-f29760abd651",
   "metadata": {
    "tags": []
   },
   "outputs": [
    {
     "data": {
      "text/plain": [
       "<__main__.Ct at 0x1cd00041a90>"
      ]
     },
     "execution_count": 35,
     "metadata": {},
     "output_type": "execute_result"
    }
   ],
   "source": [
    "ct = Ct('1.3.6.1.4.1.14519.5.2.1.6279.6001.603126300703296693942875967838')"
   ]
  },
  {
   "cell_type": "code",
   "execution_count": 38,
   "id": "1f32a05d-c309-4ab0-9c7a-2ecfabdf40b6",
   "metadata": {
    "tags": []
   },
   "outputs": [
    {
     "name": "stdout",
     "output_type": "stream",
     "text": [
      "IrcTuple(index=65, row=395, col=366)\n",
      "IrcTuple(index=51, row=315, col=119)\n",
      "IrcTuple(index=72, row=337, col=413)\n"
     ]
    }
   ],
   "source": [
    "for c in matches:\n",
    "    c_irc = xyz2irc(c.center_xyz, ct.origin_xyz, ct.vxSize_xyz, ct.direction_a)\n",
    "    print(c_irc)"
   ]
  },
  {
   "cell_type": "code",
   "execution_count": 85,
   "id": "3e1bb8fc-1065-4de4-9957-93afc0ee4281",
   "metadata": {
    "tags": []
   },
   "outputs": [
    {
     "name": "stdout",
     "output_type": "stream",
     "text": [
      "1.3.6.1.4.1.14519.5.2.1.6279.6001.603126300703296693942875967838, with 52 has 4 matches\n",
      "OH NO! They are the same\n",
      "closest to i_idx = 52 is IrcTuple(index=51, row=315, col=119)\n"
     ]
    }
   ],
   "source": [
    "for i, d in enumerate(detection_test_data['images']):\n",
    "    s_uid = d['file_name'].split('_')[-1].replace('.png', '')\n",
    "    i_idx = int(d['file_name'].split('(')[1].split(')')[0])\n",
    "    isMal_B = {0: False, 1: True}[detection_test_data['annotations'][i]['category_id']]\n",
    "    # print(s_uid)\n",
    "    # print(i_idx)\n",
    "    # print(isMal_B)\n",
    "    matches = [x for x in candi_list if x.series_uid==s_uid and x.isMal_bool==isMal_B]\n",
    "    \n",
    "    if len(matches) > 1:\n",
    "        print(f\"{s_uid}, with {i_idx} has {len(matches)} matches\")\n",
    "        ct = Ct(s_uid)\n",
    "        closest_irc = xyz2irc(matches[0].center_xyz, ct.origin_xyz, ct.vxSize_xyz, ct.direction_a)\n",
    "        # print(\"matches[0] =\", closest_irc)\n",
    "        closest_dist = abs(closest_irc.index - i_idx)\n",
    "        for c in matches[1:]:\n",
    "            c_irc = xyz2irc(c.center_xyz, ct.origin_xyz, ct.vxSize_xyz, ct.direction_a)\n",
    "            # print(\"cur_irc =\", c_irc)\n",
    "            cur_dist = abs(c_irc.index - i_idx)\n",
    "            if cur_dist == closest_dist:\n",
    "                print(\"OH NO! They are the same\")\n",
    "            elif cur_dist < closest_dist:\n",
    "                closest_irc = c_irc\n",
    "                closest_dist = cur_dist\n",
    "        \n",
    "        print(f\"closest to i_idx = {i_idx} is {closest_irc}\")\n",
    "        \n",
    "        # new_center_irc = (i_idx, closest_irc.row, closest_irc.col)\n",
    "\n",
    "        break"
   ]
  },
  {
   "cell_type": "code",
   "execution_count": 101,
   "id": "a76db779-d312-4026-9dd6-7dc18578a195",
   "metadata": {
    "tags": []
   },
   "outputs": [
    {
     "data": {
      "text/plain": [
       "0.559375"
      ]
     },
     "execution_count": 101,
     "metadata": {},
     "output_type": "execute_result"
    }
   ],
   "source": [
    "detection_test_data['annotations'][1]['bbox'][1] / 640"
   ]
  },
  {
   "cell_type": "code",
   "execution_count": 152,
   "id": "b136e1f4-618e-457d-9a39-aebbcfe25029",
   "metadata": {
    "tags": []
   },
   "outputs": [
    {
     "name": "stdout",
     "output_type": "stream",
     "text": [
      "Saving Image [1 / 789] at LunaData/1_64_64\n",
      "Saving Image [51 / 789] at LunaData/1_64_64\n",
      "Saving Image [101 / 789] at LunaData/1_64_64\n",
      "Failed to reduce all groups to <= 4 Annotations.\n",
      "Some nodules may be close and must be grouped manually.\n",
      "Failed to reduce all groups to <= 4 Annotations.\n",
      "Some nodules may be close and must be grouped manually.\n",
      "Failed to reduce all groups to <= 4 Annotations.\n",
      "Some nodules may be close and must be grouped manually.\n",
      "Failed to reduce all groups to <= 4 Annotations.\n",
      "Some nodules may be close and must be grouped manually.\n",
      "Saving Image [151 / 789] at LunaData/1_64_64\n",
      "Saving Image [201 / 789] at LunaData/1_64_64\n",
      "Saving Image [251 / 789] at LunaData/1_64_64\n",
      "Failed to reduce all groups to <= 4 Annotations.\n",
      "Some nodules may be close and must be grouped manually.\n",
      "Failed to reduce all groups to <= 4 Annotations.\n",
      "Some nodules may be close and must be grouped manually.\n",
      "Failed to reduce all groups to <= 4 Annotations.\n",
      "Some nodules may be close and must be grouped manually.\n",
      "Failed to reduce all groups to <= 4 Annotations.\n",
      "Some nodules may be close and must be grouped manually.\n",
      "Failed to reduce all groups to <= 4 Annotations.\n",
      "Some nodules may be close and must be grouped manually.\n",
      "Failed to reduce all groups to <= 4 Annotations.\n",
      "Some nodules may be close and must be grouped manually.\n",
      "Saving Image [301 / 789] at LunaData/1_64_64\n",
      "Failed to reduce all groups to <= 4 Annotations.\n",
      "Some nodules may be close and must be grouped manually.\n",
      "Failed to reduce all groups to <= 4 Annotations.\n",
      "Some nodules may be close and must be grouped manually.\n",
      "Failed to reduce all groups to <= 4 Annotations.\n",
      "Some nodules may be close and must be grouped manually.\n",
      "Failed to reduce all groups to <= 4 Annotations.\n",
      "Some nodules may be close and must be grouped manually.\n",
      "Saving Image [351 / 789] at LunaData/1_64_64\n",
      "Failed to reduce all groups to <= 4 Annotations.\n",
      "Some nodules may be close and must be grouped manually.\n",
      "Saving Image [401 / 789] at LunaData/1_64_64\n",
      "Failed to reduce all groups to <= 4 Annotations.\n",
      "Some nodules may be close and must be grouped manually.\n",
      "Saving Image [451 / 789] at LunaData/1_64_64\n",
      "Failed to reduce all groups to <= 4 Annotations.\n",
      "Some nodules may be close and must be grouped manually.\n",
      "Failed to reduce all groups to <= 4 Annotations.\n",
      "Some nodules may be close and must be grouped manually.\n",
      "Saving Image [501 / 789] at LunaData/1_64_64\n",
      "Failed to reduce all groups to <= 4 Annotations.\n",
      "Some nodules may be close and must be grouped manually.\n",
      "Failed to reduce all groups to <= 4 Annotations.\n",
      "Some nodules may be close and must be grouped manually.\n",
      "Failed to reduce all groups to <= 4 Annotations.\n",
      "Some nodules may be close and must be grouped manually.\n",
      "Saving Image [551 / 789] at LunaData/1_64_64\n",
      "Saving Image [601 / 789] at LunaData/1_64_64\n",
      "Saving Image [651 / 789] at LunaData/1_64_64\n",
      "Failed to reduce all groups to <= 4 Annotations.\n",
      "Some nodules may be close and must be grouped manually.\n",
      "Failed to reduce all groups to <= 4 Annotations.\n",
      "Some nodules may be close and must be grouped manually.\n",
      "Failed to reduce all groups to <= 4 Annotations.\n",
      "Some nodules may be close and must be grouped manually.\n",
      "Saving Image [701 / 789] at LunaData/1_64_64\n",
      "Saving Image [751 / 789] at LunaData/1_64_64\n"
     ]
    }
   ],
   "source": [
    "import json\n",
    "\n",
    "width_irc = (1, 64, 64)\n",
    "with open('_annotations_origin_aug.json') as f:\n",
    "    detection_test_data = json.load(f)\n",
    "    size = len(detection_test_data['images'])\n",
    "    for i, d in enumerate(detection_test_data['images']):\n",
    "        s_uid = d['file_name'].split('_')[-1].replace('.png', '')\n",
    "        i_idx = int(d['file_name'].split('(')[1].split(')')[0])\n",
    "        isMal_B = {0: False, 1: True}[detection_test_data['annotations'][i]['category_id']]\n",
    "\n",
    "        # print(s_uid)\n",
    "        # print(i_idx)\n",
    "        # print(isMal_B)\n",
    "        # matches = [x for x in candi_list if x.series_uid==s_uid and x.isMal_bool==isMal_B and i_idx >= x.z_range[0] and i_idx < x.z_range[1]]\n",
    "\n",
    "        # if len(matches) > 1:\n",
    "            # print(f\"{s_uid}, with {i_idx} has {len(matches)} matches\")\n",
    "        x_rate = (detection_test_data['annotations'][i]['bbox'][0] + 0.5 * detection_test_data['annotations'][i]['bbox'][2]) / 640\n",
    "        y_rate = (detection_test_data['annotations'][i]['bbox'][1] + 0.5 * detection_test_data['annotations'][i]['bbox'][3]) / 640\n",
    "            # Found = False\n",
    "            # foundCand = None\n",
    "            # for c in matches:\n",
    "            #     # print(f\"getting index {i_idx} in range {c.z_range} = {i_idx - c.z_range[0]} from {len(c.xy_ranges)}\")\n",
    "            #     if c.xy_ranges[i_idx - c.z_range[0]] == 'nan':\n",
    "            #         # print(\"This is nan\")\n",
    "            #         continue\n",
    "            #     # print(f\"x = {x_rate}, y = {y_rate} with candidate x = {c.xy_ranges[i_idx - c.z_range[0]][0]}, y = {c.xy_ranges[i_idx - c.z_range[0]][1]}\")\n",
    "            #     # print(f\"cur range = {c.z_range}\")\n",
    "            #     if math.isclose(x_rate, c.xy_ranges[i_idx - c.z_range[0]][0], abs_tol = 0.0025) and math.isclose(y_rate, c.xy_ranges[i_idx - c.z_range[0]][1], abs_tol = 0.0025):\n",
    "            #         if Found:\n",
    "            #             print(f\"OH NO! Found {i_idx} in {foundCand} with currrent {c}\")\n",
    "            #         else:\n",
    "            #             print(\"Found it!\")\n",
    "            #             Found = True\n",
    "            #             foundCand = c\n",
    "            # if not Found:\n",
    "            #     print(\"OMG That is a big problem!!!!!\")\n",
    "        x_real = round(x_rate * 512)\n",
    "        y_real = round(y_rate * 512)\n",
    "        ct = Ct(s_uid)\n",
    "            # center_irc = xyz2irc(foundCand.center_xyz, ct.origin_xyz, ct.vxSize_xyz, ct.direction_a)\n",
    "            # print(f\"Real z = {i_idx}, x = {x_real}, y = {y_real}. With center_irc = {center_irc}\")\n",
    "            # break\n",
    "        new_center_irc = (i_idx, y_real, x_real)\n",
    "            # break\n",
    "\n",
    "        candidate_a, mask_a = ct.getDetectionTestCandidate(new_center_irc, width_irc)\n",
    "        \n",
    "        candidate_t = torch.from_numpy(candidate_a).to(torch.float32)\n",
    "        mask_t = torch.from_numpy(mask_a).to(torch.float32)\n",
    "\n",
    "        label_t = torch.tensor([False, False], dtype=torch.float32)\n",
    "\n",
    "        if not isMal_B:\n",
    "            label_t[0] = True\n",
    "            index_t = 0\n",
    "        else:\n",
    "            label_t[1] = True\n",
    "            index_t = 1\n",
    "\n",
    "        torch.save(candidate_t, f'DetectionTest/{width_irc[0]}_{width_irc[1]}_{width_irc[2]}/{i}.pt')\n",
    "        torch.save(label_t, f'DetectionTest/{width_irc[0]}_{width_irc[1]}_{width_irc[2]}/{i}_label.pt')\n",
    "        torch.save(mask_t, f'DetectionTest/{width_irc[0]}_{width_irc[1]}_{width_irc[2]}/{i}_mask.pt')\n",
    "        if i % 50 == 0:\n",
    "            print(f\"Saving Image [{i+1} / {size}] at LunaData/{width_irc[0]}_{width_irc[1]}_{width_irc[2]}\")"
   ]
  },
  {
   "cell_type": "code",
   "execution_count": null,
   "id": "b69aa43d-5a9d-4fb0-921a-08b8d41b55c2",
   "metadata": {
    "tags": []
   },
   "outputs": [],
   "source": [
    "def calculate_box(cmask, cbbox):\n",
    "    #print(cbbox)\n",
    "    \n",
    "    cmask_reshape = np.transpose(np.array(cmask), (2, 1, 0))\n",
    "    #print(cmask_reshape)\n",
    "    ret = []\n",
    "    \n",
    "    for z_mask in cmask_reshape:\n",
    "        min_x, max_x, min_y, max_y = 511, 0, 511, 0\n",
    "        for i in range(len(z_mask)):\n",
    "            for j in range(len(z_mask[i])):\n",
    "                if z_mask[i][j]:\n",
    "                    if i <= min_y:\n",
    "                        min_y = i\n",
    "                    if j <= min_x:\n",
    "                        min_x = j\n",
    "                    if i >= max_y:\n",
    "                        max_y = i\n",
    "                    if j >= max_x:\n",
    "                        max_x = j\n",
    "        #print(\"cbbox:\", cbbox)\n",
    "        #print(\"minx, maxx, miny, maxy: \", (min_x, max_x, min_y, max_y))\n",
    "        if min_x == 511 and max_x == 0 and min_y == 511 and max_y == 0:\n",
    "            ret.append('nan')\n",
    "        else:\n",
    "            center_x = round(((min_x + max_x) / 2 + cbbox[0].start) / 511, 10)\n",
    "            center_y = round(((min_y + max_y) / 2 + cbbox[1].start) / 511, 10)\n",
    "            width_x = round((max_x - min_x + 4) / 512, 10)\n",
    "            height_y = round((max_y - min_y + 4) / 512, 10)\n",
    "            #print(\"centerx, centery, width, height: \", center_x, center_y, width_x, height_y)\n",
    "            ret.append([center_y, center_x, height_y, width_x])\n",
    "        \n",
    "        #print(ret)\n",
    "        \n",
    "    return ret"
   ]
  },
  {
   "cell_type": "code",
   "execution_count": null,
   "id": "d8bca444-8112-4fa3-9ead-4d97891e8e3f",
   "metadata": {},
   "outputs": [],
   "source": []
  },
  {
   "cell_type": "code",
   "execution_count": null,
   "id": "1b137654-aa98-4801-bf7f-3001359d3a65",
   "metadata": {},
   "outputs": [],
   "source": []
  },
  {
   "cell_type": "code",
   "execution_count": 119,
   "id": "7ff2c177-a844-4379-8df1-4cd45b42c39c",
   "metadata": {
    "tags": []
   },
   "outputs": [
    {
     "data": {
      "text/plain": [
       "(2, 1, 0, 3)"
      ]
     },
     "execution_count": 119,
     "metadata": {},
     "output_type": "execute_result"
    }
   ],
   "source": [
    "from sklearn.metrics import confusion_matrix\n",
    "\n",
    "a = [0,0,0,1,1,1]\n",
    "b = [0,0,1,1,1,1]\n",
    "\n",
    "tn, fp, fn, tp = confusion_matrix(a, b).ravel()\n",
    "(tn, fp, fn, tp)"
   ]
  },
  {
   "cell_type": "code",
   "execution_count": 128,
   "id": "24509bbe-0683-4147-85ae-80387505fe98",
   "metadata": {
    "tags": []
   },
   "outputs": [
    {
     "data": {
      "text/plain": [
       "1.0"
      ]
     },
     "execution_count": 128,
     "metadata": {},
     "output_type": "execute_result"
    }
   ],
   "source": [
    "myRecall = tp / (tp + fn)\n",
    "myRecall"
   ]
  },
  {
   "cell_type": "code",
   "execution_count": 120,
   "id": "4a1a5d26-0dca-4836-b836-813839d5cf6b",
   "metadata": {
    "tags": []
   },
   "outputs": [
    {
     "data": {
      "text/plain": [
       "1.0"
      ]
     },
     "execution_count": 120,
     "metadata": {},
     "output_type": "execute_result"
    }
   ],
   "source": [
    "recall_score(a, b)"
   ]
  },
  {
   "cell_type": "code",
   "execution_count": 145,
   "id": "b63dc12e-b684-4681-8059-d9ebf339439c",
   "metadata": {
    "tags": []
   },
   "outputs": [
    {
     "data": {
      "text/plain": [
       "0.8333333333333334"
      ]
     },
     "execution_count": 145,
     "metadata": {},
     "output_type": "execute_result"
    }
   ],
   "source": [
    "rw = recall_score(a, b, average='weighted')\n",
    "rw"
   ]
  },
  {
   "cell_type": "code",
   "execution_count": 129,
   "id": "3faa36ae-a632-4e29-bff7-714957247ed3",
   "metadata": {
    "tags": []
   },
   "outputs": [
    {
     "data": {
      "text/plain": [
       "0.75"
      ]
     },
     "execution_count": 129,
     "metadata": {},
     "output_type": "execute_result"
    }
   ],
   "source": [
    "myPrecision = tp / (tp + fp)\n",
    "myPrecision"
   ]
  },
  {
   "cell_type": "code",
   "execution_count": 147,
   "id": "8ff753d6-127c-456c-92fa-5ce93975f629",
   "metadata": {
    "tags": []
   },
   "outputs": [
    {
     "data": {
      "text/plain": [
       "0.75"
      ]
     },
     "execution_count": 147,
     "metadata": {},
     "output_type": "execute_result"
    }
   ],
   "source": [
    "precision_score(a, b)"
   ]
  },
  {
   "cell_type": "code",
   "execution_count": 148,
   "id": "f799ed32-22ee-4f96-a110-01411dfc58c4",
   "metadata": {
    "tags": []
   },
   "outputs": [
    {
     "data": {
      "text/plain": [
       "0.875"
      ]
     },
     "execution_count": 148,
     "metadata": {},
     "output_type": "execute_result"
    }
   ],
   "source": [
    "pw = precision_score(a, b, average=\"weighted\")\n",
    "pw"
   ]
  },
  {
   "cell_type": "code",
   "execution_count": 133,
   "id": "27cc382c-4077-4f41-bfce-c2a1738219a7",
   "metadata": {
    "tags": []
   },
   "outputs": [
    {
     "data": {
      "text/plain": [
       "0.8571428571428571"
      ]
     },
     "execution_count": 133,
     "metadata": {},
     "output_type": "execute_result"
    }
   ],
   "source": [
    "myF1 = (2 * myPrecision * myRecall) / (myPrecision + myRecall)\n",
    "myF1"
   ]
  },
  {
   "cell_type": "code",
   "execution_count": 141,
   "id": "06bfc62b-4cf6-42a9-b525-a53af87bcbdc",
   "metadata": {
    "tags": []
   },
   "outputs": [
    {
     "data": {
      "text/plain": [
       "0.8571428571428571"
      ]
     },
     "execution_count": 141,
     "metadata": {},
     "output_type": "execute_result"
    }
   ],
   "source": [
    "f1_score(a, b, average=\"binary\")"
   ]
  },
  {
   "cell_type": "code",
   "execution_count": 146,
   "id": "4638f47b-f205-40da-9aba-34cf1aa291c3",
   "metadata": {
    "tags": []
   },
   "outputs": [
    {
     "data": {
      "text/plain": [
       "0.8536585365853658"
      ]
     },
     "execution_count": 146,
     "metadata": {},
     "output_type": "execute_result"
    }
   ],
   "source": [
    "f1 = (2 * pw * rw) / (pw + rw)\n",
    "f1"
   ]
  },
  {
   "cell_type": "code",
   "execution_count": 142,
   "id": "ee6cf2fa-f966-4df0-b656-c4da3b82832f",
   "metadata": {
    "tags": []
   },
   "outputs": [
    {
     "data": {
      "text/plain": [
       "0.8285714285714286"
      ]
     },
     "execution_count": 142,
     "metadata": {},
     "output_type": "execute_result"
    }
   ],
   "source": [
    "f1_score(a, b, average='weighted')"
   ]
  },
  {
   "cell_type": "code",
   "execution_count": null,
   "id": "5ac10b82-d146-4cf9-b610-a3108571a8f2",
   "metadata": {},
   "outputs": [],
   "source": []
  },
  {
   "cell_type": "code",
   "execution_count": null,
   "id": "de92c108-58a9-4435-b044-6f5821c4add3",
   "metadata": {},
   "outputs": [],
   "source": []
  },
  {
   "cell_type": "code",
   "execution_count": 3,
   "id": "bcaa264d-6792-4774-a105-2ee8eca82a3e",
   "metadata": {
    "tags": []
   },
   "outputs": [],
   "source": [
    "from PIL import Image, ImageDraw\n",
    "def np2Png(np_arr, target_name):\n",
    "    min_value = np.min(np_arr)\n",
    "    max_value = np.max(np_arr)\n",
    "    scaled_np_arr = np_arr * 255\n",
    "    scaled_np_arr = scaled_np_arr.astype(np.uint8)\n",
    "    slice_ori = Image.fromarray(scaled_np_arr, mode='L')\n",
    "    slice_ori.save(target_name)"
   ]
  },
  {
   "cell_type": "code",
   "execution_count": 58,
   "id": "9b245dd0-cbed-4669-a987-ecf5a9f60258",
   "metadata": {
    "tags": []
   },
   "outputs": [],
   "source": [
    "import glob\n",
    "ct_path = glob.glob('D:/IMProject/DetectionData/Train/*_ct.pt')\n",
    "mask_path = glob.glob('D:/IMProject/DetectionData/Train/*_mask.pt')\n",
    "label_path = glob.glob('D:/IMProject/DetectionData/Train/*_label.pt')"
   ]
  },
  {
   "cell_type": "code",
   "execution_count": 59,
   "id": "673cd7bd-2682-4fc5-aff3-39ab5f0d40fa",
   "metadata": {
    "tags": []
   },
   "outputs": [
    {
     "data": {
      "text/plain": [
       "37926"
      ]
     },
     "execution_count": 59,
     "metadata": {},
     "output_type": "execute_result"
    }
   ],
   "source": [
    "len(mask_path)"
   ]
  },
  {
   "cell_type": "code",
   "execution_count": 51,
   "id": "a5be7992-cccc-4b4c-8ac8-6d768ea37ba5",
   "metadata": {
    "tags": []
   },
   "outputs": [
    {
     "data": {
      "text/plain": [
       "'D:/IMProject/DetectionData/Train\\\\0-(116)-[0]_0_1.3.6.1.4.1.14519.5.2.1.6279.6001.997611074084993415992563148335_mask.pt'"
      ]
     },
     "execution_count": 51,
     "metadata": {},
     "output_type": "execute_result"
    }
   ],
   "source": [
    "mask_path[0]"
   ]
  },
  {
   "cell_type": "code",
   "execution_count": 65,
   "id": "bb5c1580-302e-4469-a1b9-d1878b6e9639",
   "metadata": {
    "tags": []
   },
   "outputs": [
    {
     "data": {
      "text/plain": [
       "37926"
      ]
     },
     "execution_count": 65,
     "metadata": {},
     "output_type": "execute_result"
    }
   ],
   "source": [
    "len(ct_path)"
   ]
  },
  {
   "cell_type": "code",
   "execution_count": 64,
   "id": "1041d525-847a-4985-8178-345b9bfa25c8",
   "metadata": {
    "tags": []
   },
   "outputs": [
    {
     "data": {
      "text/plain": [
       "37914"
      ]
     },
     "execution_count": 64,
     "metadata": {},
     "output_type": "execute_result"
    }
   ],
   "source": [
    "len(label_path)"
   ]
  },
  {
   "cell_type": "code",
   "execution_count": 46,
   "id": "d9be48e4-ea43-4426-a324-f563c629c3f6",
   "metadata": {
    "tags": []
   },
   "outputs": [
    {
     "data": {
      "text/plain": [
       "array([[ 42.,  52.,  38., ..., 124., 134., 135.],\n",
       "       [ 35.,  61.,  56., ..., 120., 131., 138.],\n",
       "       [ 35.,  45.,  51., ..., 117., 114., 128.],\n",
       "       ...,\n",
       "       [164., 179., 201., ..., 235., 240., 248.],\n",
       "       [180., 181., 191., ..., 244., 244., 256.],\n",
       "       [179., 188., 196., ..., 254., 258., 263.]], dtype=float32)"
      ]
     },
     "execution_count": 46,
     "metadata": {},
     "output_type": "execute_result"
    }
   ],
   "source": [
    "# img = torch.load(f'DetectionTest/1_64_64/0_mask.pt').numpy()\n",
    "img = torch.load(mask_path[4]).numpy()\n",
    "img[0]"
   ]
  },
  {
   "cell_type": "code",
   "execution_count": 47,
   "id": "34d45828-7bb2-4519-826b-35a217c087a3",
   "metadata": {
    "tags": []
   },
   "outputs": [],
   "source": [
    "np2Png(img[0], \"test.png\")"
   ]
  },
  {
   "cell_type": "code",
   "execution_count": 76,
   "id": "8c31fb50-ce2f-4f57-859d-364ef5908092",
   "metadata": {
    "tags": []
   },
   "outputs": [],
   "source": [
    "ct_vpath = glob.glob('D:/IMProject/DetectionData/Valid/*_ct.pt')\n",
    "mask_vpath = glob.glob('D:/IMProject/DetectionData/Valid/*_mask.pt')\n",
    "label_vpath = glob.glob('D:/IMProject/DetectionData/Valid/*_label.pt')"
   ]
  },
  {
   "cell_type": "code",
   "execution_count": 77,
   "id": "66ba79b6-3e20-4a36-8a05-cd5586b8c796",
   "metadata": {
    "tags": []
   },
   "outputs": [
    {
     "data": {
      "text/plain": [
       "789"
      ]
     },
     "execution_count": 77,
     "metadata": {},
     "output_type": "execute_result"
    }
   ],
   "source": [
    "len(ct_vpath)"
   ]
  },
  {
   "cell_type": "code",
   "execution_count": 78,
   "id": "7634fc74-d96f-4aed-884a-db4bb2a306c7",
   "metadata": {
    "tags": []
   },
   "outputs": [
    {
     "data": {
      "text/plain": [
       "789"
      ]
     },
     "execution_count": 78,
     "metadata": {},
     "output_type": "execute_result"
    }
   ],
   "source": [
    "len(mask_vpath)"
   ]
  },
  {
   "cell_type": "code",
   "execution_count": 79,
   "id": "f4d05739-7ce5-40d6-b52e-b91cd0e95159",
   "metadata": {
    "tags": []
   },
   "outputs": [
    {
     "data": {
      "text/plain": [
       "789"
      ]
     },
     "execution_count": 79,
     "metadata": {},
     "output_type": "execute_result"
    }
   ],
   "source": [
    "len(label_vpath)"
   ]
  },
  {
   "cell_type": "code",
   "execution_count": 71,
   "id": "d9e83b6b-5695-43d8-a536-3c8f6587a7e7",
   "metadata": {
    "tags": []
   },
   "outputs": [],
   "source": [
    "ct_tpath = glob.glob('D:/IMProject/DetectionData/Test/*_ct.pt')\n",
    "mask_tpath = glob.glob('D:/IMProject/DetectionData/Test/*_mask.pt')\n",
    "label_tpath = glob.glob('D:/IMProject/DetectionData/Test/*_label.pt')"
   ]
  },
  {
   "cell_type": "code",
   "execution_count": 75,
   "id": "1c550da1-5df4-44a1-bb41-9f6fd6a1cb51",
   "metadata": {
    "tags": []
   },
   "outputs": [
    {
     "data": {
      "text/plain": [
       "7905"
      ]
     },
     "execution_count": 75,
     "metadata": {},
     "output_type": "execute_result"
    }
   ],
   "source": [
    "len(ct_tpath)"
   ]
  },
  {
   "cell_type": "code",
   "execution_count": 73,
   "id": "c5e34cac-0b0d-47ef-91e8-d5f7bf322087",
   "metadata": {
    "tags": []
   },
   "outputs": [
    {
     "data": {
      "text/plain": [
       "7905"
      ]
     },
     "execution_count": 73,
     "metadata": {},
     "output_type": "execute_result"
    }
   ],
   "source": [
    "len(mask_tpath)"
   ]
  },
  {
   "cell_type": "code",
   "execution_count": 74,
   "id": "666c3eb4-7884-479d-9c9d-8faa9b5811c1",
   "metadata": {
    "tags": []
   },
   "outputs": [
    {
     "data": {
      "text/plain": [
       "7905"
      ]
     },
     "execution_count": 74,
     "metadata": {},
     "output_type": "execute_result"
    }
   ],
   "source": [
    "len(label_tpath)"
   ]
  }
 ],
 "metadata": {
  "kernelspec": {
   "display_name": "Python 3 (ipykernel)",
   "language": "python",
   "name": "python3"
  },
  "language_info": {
   "codemirror_mode": {
    "name": "ipython",
    "version": 3
   },
   "file_extension": ".py",
   "mimetype": "text/x-python",
   "name": "python",
   "nbconvert_exporter": "python",
   "pygments_lexer": "ipython3",
   "version": "3.9.18"
  }
 },
 "nbformat": 4,
 "nbformat_minor": 5
}
